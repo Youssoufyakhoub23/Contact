{
 "cells": [
  {
   "cell_type": "code",
   "execution_count": 26,
   "metadata": {},
   "outputs": [],
   "source": [
    "from datetime import datetime\n",
    "def create_contact():\n",
    "    nom=input(\"tapez votre nom\")\n",
    "    prenom=input(\"tapez votre prenom\")\n",
    "    contact=input(\"entrez votre numero\")\n",
    "    date=datetime.today()\n",
    "    dict= {}\n",
    "    dict[\"nom\"]=nom\n",
    "    dict[\"prenom\"]=prenom\n",
    "    dict[\"contact\"]=contact\n",
    "    dict[\"date\"]=date\n",
    "    print(dict)\n",
    "    return dict\n",
    "    \n",
    "\n",
    "def show_contact(contact):\n",
    " for values in contact.values():\n",
    "    print(values)\n",
    "    contact=create_contact()\n",
    "    show_contact(contact)\n",
    "    \n",
    "\n",
    "    \n",
    "   "
   ]
  }
 ],
 "metadata": {
  "kernelspec": {
   "display_name": "Python 3",
   "language": "python",
   "name": "python3"
  },
  "language_info": {
   "codemirror_mode": {
    "name": "ipython",
    "version": 3
   },
   "file_extension": ".py",
   "mimetype": "text/x-python",
   "name": "python",
   "nbconvert_exporter": "python",
   "pygments_lexer": "ipython3",
   "version": "3.11.1"
  },
  "orig_nbformat": 4,
  "vscode": {
   "interpreter": {
    "hash": "867653828610a08aedd1b2b8c4c4893d5bef552a5401ab7581f6564441baad04"
   }
  }
 },
 "nbformat": 4,
 "nbformat_minor": 2
}
