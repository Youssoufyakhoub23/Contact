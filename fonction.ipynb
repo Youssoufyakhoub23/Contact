{
 "cells": [
  {
   "cell_type": "code",
   "execution_count": null,
   "metadata": {},
   "outputs": [],
   "source": [
    "from datetime import date\n",
    "def creer_contact():\n",
    "    firstname=input(\"tapez votre nom\")\n",
    "    lastname=input(\"tapez votre prenom\")\n",
    "    phone=input(\"entrez votre numero\")\n",
    "    date=date.today()\n",
    "    dico_contact={\n",
    "        \"firstname\": firstname,\n",
    "        \"lastname\": lastname,\n",
    "        \"phone\": phone,\n",
    "        \"date\": date\n",
    "    }\n",
    "    return dico_contact\n",
    "def show_contact(contact):\n",
    "    for values in contact.values():\n",
    "        print(values)\n",
    "\n",
    "\n",
    "contact = creer_contact()\n",
    "show_contact =(contact)\n",
    "\n",
    "    \n",
    "\n",
    "    \n",
    "   "
   ]
  }
 ],
 "metadata": {
  "kernelspec": {
   "display_name": "Python 3",
   "language": "python",
   "name": "python3"
  },
  "language_info": {
   "name": "python",
   "version": "3.11.1 (tags/v3.11.1:a7a450f, Dec  6 2022, 19:58:39) [MSC v.1934 64 bit (AMD64)]"
  },
  "orig_nbformat": 4,
  "vscode": {
   "interpreter": {
    "hash": "867653828610a08aedd1b2b8c4c4893d5bef552a5401ab7581f6564441baad04"
   }
  }
 },
 "nbformat": 4,
 "nbformat_minor": 2
}
