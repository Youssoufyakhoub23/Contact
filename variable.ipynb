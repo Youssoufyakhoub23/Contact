{
 "cells": [
  {
   "cell_type": "code",
   "execution_count": null,
   "metadata": {},
   "outputs": [],
   "source": [
    "from datetime import datetime\n",
    "def create_contact():\n",
    "    nom=input(\"tapez votre nom\")\n",
    "    prenom=input(\"tapez votre prenom\")\n",
    "    contact=input(\"entrez votre numero\")\n",
    "    date=datetime.today()\n",
    "    dict={}\n",
    "    dict['nom']=nom\n",
    "    dict['prenom']=prenom\n",
    "    dict['contact']=contact\n",
    "    dict['date']=date\n",
    "    return dict\n",
    "def show_contact(contact):\n",
    "    for values in contact.values()\n",
    "    print(values)\n",
    "    \n",
    "contact()\n",
    "    \n",
    "   "
   ]
  }
 ],
 "metadata": {
  "language_info": {
   "name": "python"
  },
  "orig_nbformat": 4
 },
 "nbformat": 4,
 "nbformat_minor": 2
}
